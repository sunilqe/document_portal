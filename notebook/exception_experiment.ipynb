{
 "cells": [
  {
   "cell_type": "code",
   "execution_count": 1,
   "id": "b9378be9",
   "metadata": {},
   "outputs": [],
   "source": [
    "### __file__ in .py file automatically gets the name of the file"
   ]
  },
  {
   "cell_type": "code",
   "execution_count": 2,
   "id": "e897e935",
   "metadata": {},
   "outputs": [],
   "source": [
    "from logger.custom_logger import CustomLogger"
   ]
  },
  {
   "cell_type": "code",
   "execution_count": 3,
   "id": "fdfa587c",
   "metadata": {},
   "outputs": [],
   "source": [
    "logger=CustomLogger().get_logger(\"exception_experiment\")"
   ]
  },
  {
   "cell_type": "code",
   "execution_count": 9,
   "id": "bc994923",
   "metadata": {},
   "outputs": [
    {
     "ename": "IndentationError",
     "evalue": "unindent does not match any outer indentation level (<tokenize>, line 54)",
     "output_type": "error",
     "traceback": [
      "\u001b[1;36m  File \u001b[1;32m<tokenize>:54\u001b[1;36m\u001b[0m\n\u001b[1;33m    File \"C:\\Users\\sunny\\AppData\\Local\\Temp\\ipykernel_40836\\11436085.py\", line 22, in <module>\u001b[0m\n\u001b[1;37m    ^\u001b[0m\n\u001b[1;31mIndentationError\u001b[0m\u001b[1;31m:\u001b[0m unindent does not match any outer indentation level\n"
     ]
    }
   ],
   "source": [
    "\n",
    "### __file__ in .py file automatically gets the name of the file\n",
    "from logger.custom_logger import CustomLogger\n",
    "logger=CustomLogger().get_logger(\"exception_experiment\")\n",
    "import sys\n",
    "import traceback\n",
    "class DocumentPortalException(Exception):\n",
    "    \"\"\"Custom exception for Document Portal\"\"\"\n",
    "    def __init__(self,error_message,error_details:sys):\n",
    "        _,_,exc_tb=error_details.exc_info()\n",
    "        self.file_name=exc_tb.tb_frame.f_code.co_filename\n",
    "        self.lineno=exc_tb.tb_lineno\n",
    "        self.error_message=str(error_message)\n",
    "        self.traceback_str = ''.join(traceback.format_exception(*error_details.exc_info())) \n",
    "    def __str__(self):\n",
    "       return f\"\"\"\n",
    "        Error in [{self.file_name}] at line [{self.lineno}]\n",
    "        Message: {self.error_message}\n",
    "        Traceback:\n",
    "        {self.traceback_str}\n",
    "        \"\"\"\n",
    "    \n",
    "if __name__ == \"__main__\":\n",
    "    try:\n",
    "        # Simulate an error\n",
    "        a = 1/0\n",
    "        print(a)\n",
    "    except Exception as e:\n",
    "        app_exc=DocumentPortalException(e,sys)\n",
    "        logger.error(app_exc)\n",
    "        raise app_exc\n",
    "---------------------------------------------------------------------------\n",
    "ZeroDivisionError                         Traceback (most recent call last)\n",
    "Cell In[12], line 22\n",
    "     20 try:\n",
    "     21     # Simulate an error\n",
    "---> 22     a = 1 / 0\n",
    "     23     print(a)\n",
    "\n",
    "ZeroDivisionError: division by zero\n",
    "\n",
    "During handling of the above exception, another exception occurred:\n",
    "\n",
    "DocumentPortalException                   Traceback (most recent call last)\n",
    "Cell In[12], line 27\n",
    "     25 app_exc=DocumentPortalException(e,sys)\n",
    "     26 logger.error(app_exc)\n",
    "---> 27 raise app_exc\n",
    "\n",
    "DocumentPortalException: \n",
    "        Error in [C:\\Users\\sunny\\AppData\\Local\\Temp\\ipykernel_40836\\11436085.py] at line [22]\n",
    "        Message: division by zero\n",
    "        Traceback:\n",
    "        Traceback (most recent call last):\n",
    "  File \"C:\\Users\\sunny\\AppData\\Local\\Temp\\ipykernel_40836\\11436085.py\", line 22, in <module>\n",
    "    a = 1 / 0\n",
    "ZeroDivisionError: division by zero\n",
    "\n",
    "        \n",
    "1. log this error(file, cloud config, command prompt) (it will keep the record of the error and will not stop the execution of the code)\n",
    "2. raise the exception(it will stop the execution of the code)"
   ]
  },
  {
   "cell_type": "code",
   "execution_count": null,
   "id": "8c96b8dd",
   "metadata": {},
   "outputs": [],
   "source": []
  }
 ],
 "metadata": {
  "kernelspec": {
   "display_name": "Python 3",
   "language": "python",
   "name": "python3"
  },
  "language_info": {
   "codemirror_mode": {
    "name": "ipython",
    "version": 3
   },
   "file_extension": ".py",
   "mimetype": "text/x-python",
   "name": "python",
   "nbconvert_exporter": "python",
   "pygments_lexer": "ipython3",
   "version": "3.10.18"
  }
 },
 "nbformat": 4,
 "nbformat_minor": 5
}
